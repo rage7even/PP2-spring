{
 "cells": [
  {
   "cell_type": "code",
   "execution_count": null,
   "metadata": {},
   "outputs": [
    {
     "name": "stdout",
     "output_type": "stream",
     "text": [
      "ab  : Match found!\n",
      "abbb  : Match found!\n",
      "b  No match\n",
      "ba  No match\n",
      "abc  No match\n"
     ]
    }
   ],
   "source": [
    "#Write a Python program that matches a string that has an 'a' followed by zero or more 'b''s.\n",
    "import re\n",
    "\n",
    "string = input().split()\n",
    "for s in string:\n",
    "    pattern = r\"^ab*$\"\n",
    "    if re.fullmatch(pattern,s):\n",
    "        print(s,\" : Match found!\")\n",
    "    else:\n",
    "        print(s,\" : No match\")"
   ]
  },
  {
   "cell_type": "code",
   "execution_count": 5,
   "metadata": {},
   "outputs": [
    {
     "name": "stdout",
     "output_type": "stream",
     "text": [
      "ab  : No match\n",
      "abb  : Match found!\n",
      "abbb  : Match found!\n",
      "abbbb  : No match\n",
      "ba  : No match\n",
      "abc  : No match\n"
     ]
    }
   ],
   "source": [
    "#Write a Python program that matches a string that has an 'a' followed by two to three 'b'.\n",
    "import re\n",
    "\n",
    "string = input().split()\n",
    "for s in string:\n",
    "    pattern = r\"^ab{2,3}$\"\n",
    "    if re.fullmatch(pattern,s):\n",
    "        print(s,\" : Match found!\")\n",
    "    else:\n",
    "        print(s,\" : No match\")"
   ]
  },
  {
   "cell_type": "code",
   "execution_count": 7,
   "metadata": {},
   "outputs": [
    {
     "name": "stdout",
     "output_type": "stream",
     "text": [
      "hello_world  : Match found!\n",
      "test_case  : Match found!\n",
      "no_match  : Match found!\n",
      "UPPER_case  : No match\n",
      "lower_  : No match\n",
      "_underscore  : No match\n"
     ]
    }
   ],
   "source": [
    "#Write a Python program to find sequences of lowercase letters joined with a underscore.\n",
    "import re\n",
    "\n",
    "string = input().split()\n",
    "for s in string:\n",
    "    pattern = r\"^[a-z]+_+[a-z]+$\"\n",
    "    if re.fullmatch(pattern,s):\n",
    "        print(s,\" : Match found!\")\n",
    "    else:\n",
    "        print(s,\" : No match\")"
   ]
  },
  {
   "cell_type": "code",
   "execution_count": 1,
   "metadata": {},
   "outputs": [
    {
     "name": "stdout",
     "output_type": "stream",
     "text": [
      "Hello  : Match found!\n",
      "HHello No match!\n",
      "World  : Match found!\n",
      "woDl No match!\n",
      "example No match!\n"
     ]
    }
   ],
   "source": [
    "#Write a Python program to find the sequences of one upper case letter followed by lower case letters.\n",
    "import re\n",
    "\n",
    "string = input().split()\n",
    "for s in string:\n",
    "    pattern = r\"^[A-Z][a-z]+$\"\n",
    "    if re.fullmatch(pattern,s):\n",
    "        print(s,\" : Match found!\")\n",
    "    else:\n",
    "        print(s, \"No match!\")\n",
    "\n",
    "    "
   ]
  },
  {
   "cell_type": "code",
   "execution_count": 2,
   "metadata": {},
   "outputs": [
    {
     "name": "stdout",
     "output_type": "stream",
     "text": [
      "ab  : Match found!\n",
      "acb  : Match found!\n",
      "a123b  : Match found!\n",
      "aXYxZB  : No match!\n",
      "a_b  : Match found!\n",
      "b  : No match!\n",
      "ba  : No match!\n",
      "Abfbeb  : No match!\n"
     ]
    }
   ],
   "source": [
    "#Write a Python program that matches a string that has an 'a' followed by anything, ending in 'b'.\n",
    "import re\n",
    "\n",
    "string = input().split()\n",
    "for s in string:\n",
    "    pattern = r\"^a.*b$\"\n",
    "    if re.fullmatch(pattern,s):\n",
    "        print(s,\" : Match found!\")\n",
    "    else:\n",
    "        print(s, \" : No match!\")\n"
   ]
  },
  {
   "cell_type": "code",
   "execution_count": 7,
   "metadata": {},
   "outputs": [
    {
     "name": "stdout",
     "output_type": "stream",
     "text": [
      "Original text:  Hello, world. This is a test.\n",
      "Replaced text:  Hello::world::This:is:a:test:\n"
     ]
    }
   ],
   "source": [
    "#Write a Python program to replace all occurrences of space, comma, or dot with a colon.\n",
    "import re\n",
    "\n",
    "text = input()\n",
    "pattern = re.sub(r\"[ ,.]\",\":\",text)\n",
    "print(\"Original text: \", text)\n",
    "print(\"Replaced text: \", pattern)\n",
    "    "
   ]
  },
  {
   "cell_type": "code",
   "execution_count": null,
   "metadata": {},
   "outputs": [
    {
     "name": "stdout",
     "output_type": "stream",
     "text": [
      "thisIsATestString\n"
     ]
    }
   ],
   "source": [
    "#Write a python program to convert snake case string to camel case string.\n",
    "import re\n",
    "\n",
    "string = input()\n",
    "pattern = re.sub(r\"_([a-z])\",lambda match: match.group(1).upper(),string)\n",
    "print(pattern)"
   ]
  },
  {
   "cell_type": "code",
   "execution_count": 2,
   "metadata": {},
   "outputs": [
    {
     "name": "stdout",
     "output_type": "stream",
     "text": [
      "['', 'This', 'Is', 'A', 'Test', 'String']\n"
     ]
    }
   ],
   "source": [
    "#Write a Python program to split a string at uppercase letters.\n",
    "import re\n",
    "\n",
    "string = input()\n",
    "pattern = re.split(r\"(?=[A-Z])\",string)\n",
    "print(pattern)"
   ]
  },
  {
   "cell_type": "code",
   "execution_count": null,
   "metadata": {},
   "outputs": [],
   "source": [
    "#Write a Python program to insert spaces between words starting with capital letters.\n",
    "import re\n",
    "\n",
    "string = input(\"Enter a camel case string: \")\n",
    "pattern = re.split(r\"(?=[A-Z])\", string)\n",
    "result = ' '.join(pattern).strip()\n",
    "\n",
    "print(result)\n"
   ]
  },
  {
   "cell_type": "code",
   "execution_count": null,
   "metadata": {},
   "outputs": [],
   "source": [
    "#Write a Python program to convert a given camel case string to snake case.\n",
    "import re\n",
    "\n",
    "string = input(\"Enter a camel case string: \")\n",
    "snake_case = re.sub(r'(?<!^)(?=[A-Z])', '_', string).lower()\n",
    "print(\"Snake case:\", snake_case)\n"
   ]
  }
 ],
 "metadata": {
  "kernelspec": {
   "display_name": "Python 3",
   "language": "python",
   "name": "python3"
  },
  "language_info": {
   "codemirror_mode": {
    "name": "ipython",
    "version": 3
   },
   "file_extension": ".py",
   "mimetype": "text/x-python",
   "name": "python",
   "nbconvert_exporter": "python",
   "pygments_lexer": "ipython3",
   "version": "3.11.2"
  }
 },
 "nbformat": 4,
 "nbformat_minor": 2
}
