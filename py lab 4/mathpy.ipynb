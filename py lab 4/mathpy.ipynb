{
 "cells": [
  {
   "cell_type": "code",
   "execution_count": 2,
   "metadata": {},
   "outputs": [
    {
     "name": "stdout",
     "output_type": "stream",
     "text": [
      "0.026525823848649224\n"
     ]
    }
   ],
   "source": [
    "#Write a Python program to convert degree to radian.\n",
    "import math\n",
    "\n",
    "def radian(d):\n",
    "    radians = d / (math.pi * 180)\n",
    "    return radians\n",
    "\n",
    "d = float(input())\n",
    "print(radian(d))\n"
   ]
  },
  {
   "cell_type": "code",
   "execution_count": 4,
   "metadata": {},
   "outputs": [
    {
     "name": "stdout",
     "output_type": "stream",
     "text": [
      "27.5\n"
     ]
    }
   ],
   "source": [
    "#Write a Python program to calculate the area of a trapezoid.\n",
    "import math\n",
    "\n",
    "def trapezoid(height,base1,base2,):\n",
    "    area = ((base1+base2)/2) * height\n",
    "    return area\n",
    "\n",
    "h,b1,b2 = float(input()), float(input()),float(input())\n",
    "print(trapezoid(h,b1,b2))"
   ]
  },
  {
   "cell_type": "code",
   "execution_count": 8,
   "metadata": {},
   "outputs": [
    {
     "name": "stdout",
     "output_type": "stream",
     "text": [
      "625\n"
     ]
    }
   ],
   "source": [
    "#Write a Python program to calculate the area of regular polygon.\n",
    "import math\n",
    "\n",
    "def regular_polygon(n,s):\n",
    "    area = n * pow(s,2) / 4 * math.tan(math.pi/n)\n",
    "    return area\n",
    "\n",
    "n,s = float(input()),float(input())\n",
    "area = regular_polygon(n,s)\n",
    "print(math.ceil(area))"
   ]
  },
  {
   "cell_type": "code",
   "execution_count": 1,
   "metadata": {},
   "outputs": [
    {
     "name": "stdout",
     "output_type": "stream",
     "text": [
      "30.0\n"
     ]
    }
   ],
   "source": [
    "#Write a Python program to calculate the area of a parallelogram.\n",
    "import math\n",
    "\n",
    "def parallelogram(height,length):\n",
    "    area = height * length\n",
    "    return area\n",
    "\n",
    "h,l = float(input()),float(input())\n",
    "print(parallelogram(h,l))"
   ]
  }
 ],
 "metadata": {
  "kernelspec": {
   "display_name": "Python 3",
   "language": "python",
   "name": "python3"
  },
  "language_info": {
   "codemirror_mode": {
    "name": "ipython",
    "version": 3
   },
   "file_extension": ".py",
   "mimetype": "text/x-python",
   "name": "python",
   "nbconvert_exporter": "python",
   "pygments_lexer": "ipython3",
   "version": "3.11.2"
  }
 },
 "nbformat": 4,
 "nbformat_minor": 2
}
