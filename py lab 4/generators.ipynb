{
 "cells": [
  {
   "cell_type": "code",
   "execution_count": 4,
   "metadata": {},
   "outputs": [
    {
     "name": "stdout",
     "output_type": "stream",
     "text": [
      "0 1 4 9 16 25 36 49 64 81 "
     ]
    }
   ],
   "source": [
    "#Create a generator that generates the squares of numbers up to some number N.\n",
    "import math\n",
    "def gen_square(n):\n",
    "    for i in range(n):\n",
    "        print(pow(i,2),end=\" \")\n",
    "\n",
    "n = int(input())\n",
    "gen_square(n)"
   ]
  },
  {
   "cell_type": "code",
   "execution_count": null,
   "metadata": {},
   "outputs": [
    {
     "name": "stdout",
     "output_type": "stream",
     "text": [
      "0, 2, 4, 6, 8, "
     ]
    }
   ],
   "source": [
    "#Create a generator that generates the squares of numbers up to some number N.\n",
    "import math\n",
    "def even_nums(n):\n",
    "    for i in range(0,n+1):\n",
    "        if i % 2 == 0:\n",
    "            print(i, end=\", \")\n",
    "\n",
    "n = int(input())\n",
    "even_nums(n)\n"
   ]
  },
  {
   "cell_type": "code",
   "execution_count": 12,
   "metadata": {},
   "outputs": [
    {
     "name": "stdout",
     "output_type": "stream",
     "text": [
      "0\n",
      "12\n",
      "24\n",
      "36\n",
      "48\n",
      "60\n",
      "72\n",
      "84\n",
      "96\n"
     ]
    }
   ],
   "source": [
    "#Define a function with a generator which can iterate the numbers, which are divisible by 3 and 4, between a given range 0 and n.\n",
    "def d_3_and_4(n):\n",
    "    for i in range(n+1):\n",
    "        if i % 3 == 0 and i % 4 == 0:\n",
    "            yield i\n",
    "\n",
    "n = int(input())\n",
    "for number in d_3_and_4(n):\n",
    "    print(number)\n"
   ]
  },
  {
   "cell_type": "code",
   "execution_count": 20,
   "metadata": {},
   "outputs": [
    {
     "name": "stdout",
     "output_type": "stream",
     "text": [
      "0 1 4 9 16 25 36 49 64 81 100 121 144 "
     ]
    }
   ],
   "source": [
    "'''Implement a generator called squares to yield the square of all numbers from (a) to (b). \n",
    "Test it with a \"for\" loop and print each of the yielded values.'''\n",
    "def squares(a,b):\n",
    "    for i in range(a,b+1):\n",
    "        yield i**2\n",
    "a,b = int(input()),int(input())\n",
    "for square in squares(a,b):\n",
    "    print(square,end=\" \")"
   ]
  },
  {
   "cell_type": "code",
   "execution_count": 21,
   "metadata": {},
   "outputs": [
    {
     "name": "stdout",
     "output_type": "stream",
     "text": [
      "10 9 8 7 6 5 4 3 2 1 0 "
     ]
    }
   ],
   "source": [
    "#Implement a generator that returns all numbers from (n) down to 0.\n",
    "def countdown(n):\n",
    "    while n>=0:\n",
    "        yield n\n",
    "        n -= 1\n",
    "n = int(input())\n",
    "for num in countdown(n):\n",
    "    print(num, end=\" \")"
   ]
  }
 ],
 "metadata": {
  "kernelspec": {
   "display_name": "Python 3",
   "language": "python",
   "name": "python3"
  },
  "language_info": {
   "codemirror_mode": {
    "name": "ipython",
    "version": 3
   },
   "file_extension": ".py",
   "mimetype": "text/x-python",
   "name": "python",
   "nbconvert_exporter": "python",
   "pygments_lexer": "ipython3",
   "version": "3.11.2"
  }
 },
 "nbformat": 4,
 "nbformat_minor": 2
}
