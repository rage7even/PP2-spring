{
 "cells": [
  {
   "cell_type": "code",
   "execution_count": 1,
   "metadata": {},
   "outputs": [
    {
     "name": "stdout",
     "output_type": "stream",
     "text": [
      "HFHFF\n"
     ]
    }
   ],
   "source": [
    "#Define a class which has at least two methods: getString: to get a string from console input printString: to print the string in upper case.\n",
    "class strProccess:\n",
    "    def __init__ (self):\n",
    "        self.string = \"\"\n",
    "    \n",
    "    def getString(self):\n",
    "        self.string = input()\n",
    "\n",
    "    def printString(self):\n",
    "        print(self.string.upper())\n",
    "\n",
    "str = strProccess()\n",
    "str.getString()\n",
    "str.printString()\n"
   ]
  },
  {
   "cell_type": "code",
   "execution_count": 20,
   "metadata": {},
   "outputs": [
    {
     "name": "stdout",
     "output_type": "stream",
     "text": [
      "0\n"
     ]
    }
   ],
   "source": [
    "'''Define a class named Shape and its subclass Square. The Square class has an init function which takes a length as argument. \n",
    "Both classes have a area function which can print the area of the shape where Shape's area is 0 by default.'''\n",
    "class Shape:\n",
    "    def area(self):\n",
    "        return 0\n",
    "class Square(Shape):\n",
    "    def __init__(self,lenght):\n",
    "        self.lenght = lenght\n",
    "\n",
    "    def area(self):\n",
    "        return self.lenght ** 2\n",
    "lenght = int(input())\n",
    "square = Square(lenght)\n",
    "print(square.area())\n"
   ]
  },
  {
   "cell_type": "code",
   "execution_count": 12,
   "metadata": {},
   "outputs": [
    {
     "name": "stdout",
     "output_type": "stream",
     "text": [
      "16\n"
     ]
    }
   ],
   "source": [
    "'''Define a class named Rectangle which inherits from Shape class from task 2. Class instance can be constructed by a length and width. \n",
    "The Rectangle class has a method which can compute the area.'''\n",
    "class Shape:\n",
    "    def area(self):\n",
    "        return 0\n",
    "class Rectangle(Shape):\n",
    "    def __init__(self,lenght,width):\n",
    "        self.lenght = lenght\n",
    "        self.width = width\n",
    "\n",
    "    def area(self):\n",
    "        return self.lenght * self.width\n",
    "\n",
    "lenght,width = int(input()), int(input())\n",
    "rectangle = Rectangle(lenght,width)\n",
    "print(rectangle.area())\n",
    "\n"
   ]
  },
  {
   "cell_type": "code",
   "execution_count": null,
   "metadata": {},
   "outputs": [
    {
     "name": "stdout",
     "output_type": "stream",
     "text": [
      "x coordinate:  6\n",
      "y coordinate:  5\n",
      "x coordinate:  9\n",
      "y coordinate:  4\n",
      "Distance between p1 and p2:  2.0\n"
     ]
    }
   ],
   "source": [
    "'''Write the definition of a Point class. Objects from this class should have a\n",
    "a method show to display the coordinates of the point\n",
    "a method move to change these coordinates\n",
    "a method dist that computes the distance between 2 points'''\n",
    "import math\n",
    "class Point:\n",
    "    def __init__(self,x,y):\n",
    "        self.x = x\n",
    "        self.y = y\n",
    "\n",
    "    def show(self):\n",
    "        print(\"x coordinate: \",self.x)\n",
    "        print(\"y coordinate: \",self.y)\n",
    "\n",
    "    def move(self):\n",
    "        self.x = int(input())\n",
    "        self.y = int(input())\n",
    "    \n",
    "    def dist(self,point):\n",
    "        return math.sqrt((self.x - point.x)**2 + (self.y - point.y)**2)\n",
    "    \n",
    "x,y = int(input()), int(input())\n",
    "p1 = Point(x,y)\n",
    "p2 = Point(7,4)\n",
    "\n",
    "p1.show()\n",
    "\n",
    "p1.move()\n",
    "p1.show()\n",
    "\n",
    "print(\"Distance between p1 and p2: \", p1.dist(p2))"
   ]
  },
  {
   "cell_type": "code",
   "execution_count": null,
   "metadata": {},
   "outputs": [
    {
     "name": "stdout",
     "output_type": "stream",
     "text": [
      "Deposit of d 2333 successful. New balance: d12333\n",
      "Withdrawal of d3555 successful. New balance: d8778\n"
     ]
    }
   ],
   "source": [
    "'''Create a bank account class that has attributes owner, balance and two methods deposit and withdraw. \n",
    "Withdrawals may not exceed the available balance. Instantiate your class, make several deposits and withdrawals, and test to make sure the account can't be overdrawn.'''\n",
    "class Account:\n",
    "    def __init__(self,owner,balance = 0.0):\n",
    "        self.owner = owner\n",
    "        self.balance = balance\n",
    "\n",
    "    def deposit(self,amount):\n",
    "        if amount > 0:\n",
    "            self.balance += amount\n",
    "            print(f\"Deposit of d {amount} successful. New balance: d {self.balance}\")\n",
    "        else:\n",
    "            print(\"Deposit amount must be positive\")\n",
    "\n",
    "    def withdraw(self,amount):\n",
    "        if amount > self.balance:\n",
    "            print(\"Insufficient funds. Withdrawal denied.\")\n",
    "        elif amount > 0:\n",
    "            self.balance -= amount\n",
    "            print(f\"Withdrawal of d {amount} successful. New balance: d {self.balance}\")\n",
    "        else:\n",
    "            print(\"Withdrawal amount must be positive.\")\n",
    "\n",
    "account_name,account_balance = input(), int(input())\n",
    "acc = Account(account_name,account_balance)\n",
    "\n",
    "deposit_amount,withdraw_amount = int(input()), int(input())\n",
    "acc.deposit(deposit_amount)\n",
    "acc.withdraw(withdraw_amount)"
   ]
  },
  {
   "cell_type": "code",
   "execution_count": null,
   "metadata": {},
   "outputs": [
    {
     "name": "stdout",
     "output_type": "stream",
     "text": [
      "[1, 2, 4, 6, 7, 8]\n",
      "[2]\n"
     ]
    }
   ],
   "source": [
    "#Write a program which can filter prime numbers in a list by using filter function. Note: Use lambda to define anonymous functions.\n",
    "is_prime = lambda x : x > 1 and all(x % 1 != 0 for i in range(2,int(x**0.5)+1))\n",
    "nums = list(map(int,input().split()))\n",
    "print(nums)\n",
    "prime_nums = list(filter(is_prime,nums))\n",
    "print(prime_nums)"
   ]
  }
 ],
 "metadata": {
  "kernelspec": {
   "display_name": "Python 3",
   "language": "python",
   "name": "python3"
  },
  "language_info": {
   "codemirror_mode": {
    "name": "ipython",
    "version": 3
   },
   "file_extension": ".py",
   "mimetype": "text/x-python",
   "name": "python",
   "nbconvert_exporter": "python",
   "pygments_lexer": "ipython3",
   "version": "3.11.2"
  }
 },
 "nbformat": 4,
 "nbformat_minor": 2
}
