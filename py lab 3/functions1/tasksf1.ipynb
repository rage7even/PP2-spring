{
 "cells": [
  {
   "cell_type": "code",
   "execution_count": 1,
   "metadata": {},
   "outputs": [
    {
     "name": "stdout",
     "output_type": "stream",
     "text": [
      "2843.45716693\n"
     ]
    }
   ],
   "source": [
    "'''A recipe you are reading states how many grams you need for the ingredient. \n",
    "Unfortunately, your store only sells items in ounces. Create a function to convert grams to ounces. ounces = 28.3495231 * grams'''\n",
    "def Ounces(grams):\n",
    "    print(28.3495231 * grams)\n",
    "gram = float(input())\n",
    "Ounces(gram)"
   ]
  },
  {
   "cell_type": "code",
   "execution_count": 1,
   "metadata": {},
   "outputs": [
    {
     "name": "stdout",
     "output_type": "stream",
     "text": [
      "C:  4190.555555555556\n"
     ]
    }
   ],
   "source": [
    "'''Read in a Fahrenheit temperature. \n",
    "Calculate and display the equivalent centigrade temperature. The following formula is used for the conversion: C = (5 / 9) * (F – 32)'''\n",
    "def Centigrade(fahrenheit):\n",
    "    c = (5 / 9) * (fahrenheit - 32)\n",
    "    print(\"C: \", c)\n",
    "f = int(input())\n",
    "Centigrade(f)"
   ]
  },
  {
   "cell_type": "code",
   "execution_count": 2,
   "metadata": {},
   "outputs": [
    {
     "name": "stdout",
     "output_type": "stream",
     "text": [
      "Number of chickens: 2\n",
      "Number of rabbits: 2\n"
     ]
    }
   ],
   "source": [
    "'''Write a program to solve a classic puzzle: We count 35 heads and 94 legs among the chickens and rabbits in a farm. \n",
    "How many rabbits and how many chickens do we have? create function: solve(numheads, numlegs):'''\n",
    "def slove(numheads,numlegs):\n",
    "    rabbits = (numlegs - 2 * numheads) // 2\n",
    "    chickens = numheads - rabbits\n",
    "    return chickens, rabbits\n",
    "numheads = int(input())\n",
    "numlegs = int(input())\n",
    "petuh,krolik = slove(numheads,numlegs)\n",
    "print(f\"Number of chickens: {petuh}\")\n",
    "print(f\"Number of rabbits: {krolik}\")"
   ]
  },
  {
   "cell_type": "code",
   "execution_count": 9,
   "metadata": {},
   "outputs": [
    {
     "name": "stdout",
     "output_type": "stream",
     "text": [
      "[13, 5, 7, 2]\n"
     ]
    }
   ],
   "source": [
    "'''You are given list of numbers separated by spaces. \n",
    "Write a function filter_prime which will take list of numbers as an agrument and returns only prime numbers from the list'''\n",
    "def is_prime(x):\n",
    "    if x <= 1:\n",
    "        return False\n",
    "    for i in range(2,int(x**0.5)+1):\n",
    "        if x % i == 0:\n",
    "            return False\n",
    "    return True\n",
    "\n",
    "def filter_prime(nums):\n",
    "    return list(filter(is_prime,nums))\n",
    "\n",
    "nums = list(map(int,input().split()))\n",
    "prime_nums = filter_prime(nums)\n",
    "print(prime_nums)"
   ]
  },
  {
   "cell_type": "code",
   "execution_count": 11,
   "metadata": {},
   "outputs": [
    {
     "name": "stdout",
     "output_type": "stream",
     "text": [
      "a b s\n",
      "a s b\n",
      "b a s\n",
      "b s a\n",
      "s b a\n",
      "s a b\n"
     ]
    }
   ],
   "source": [
    "#Write a function that accepts string from user and print all permutations of that string.\n",
    "def perm(t,stp = 0):\n",
    "    if stp == len(t):\n",
    "        print(\" \".join(t))\n",
    "        return\n",
    "    for i in range(stp, len(t)):\n",
    "        tlist = list(t)\n",
    "        tlist[stp],tlist[i] = tlist[i], tlist[stp]\n",
    "\n",
    "        perm(tlist,stp+1)\n",
    "t = input()\n",
    "perm(list(t))\n"
   ]
  },
  {
   "cell_type": "code",
   "execution_count": 12,
   "metadata": {},
   "outputs": [
    {
     "name": "stdout",
     "output_type": "stream",
     "text": [
      "WRE ARE wR\n"
     ]
    }
   ],
   "source": [
    "#Write a function that accepts string from user, return a sentence with the words reversed. We are ready -> ready are We\n",
    "def rev_func(text):\n",
    "    text.reverse()\n",
    "    print(\" \".join(text))\n",
    "\n",
    "text = input().split()\n",
    "rev_func(text)"
   ]
  },
  {
   "cell_type": "code",
   "execution_count": 5,
   "metadata": {},
   "outputs": [
    {
     "name": "stdout",
     "output_type": "stream",
     "text": [
      "True\n",
      "False\n",
      "False\n"
     ]
    }
   ],
   "source": [
    "#Given a list of ints, return True if the array contains a 3 next to a 3 somewhere.\n",
    "def has_33(nums):\n",
    "    q = False\n",
    "    for i in range(len(nums)-1):\n",
    "        if nums[i] == nums[i+1]:\n",
    "            print(\"True\")\n",
    "            q = True\n",
    "            break\n",
    "    if q == False:\n",
    "        print(\"False\")\n",
    "has_33([1, 3, 3])\n",
    "has_33([1, 3, 1, 3])\n",
    "has_33([3, 1, 3])\n"
   ]
  },
  {
   "cell_type": "code",
   "execution_count": 8,
   "metadata": {},
   "outputs": [
    {
     "name": "stdout",
     "output_type": "stream",
     "text": [
      "True\n",
      "True\n",
      "False\n"
     ]
    }
   ],
   "source": [
    "#Write a function that takes in a list of integers and returns True if it contains 007 in order\n",
    "def spy_game(nums):\n",
    "    z = []\n",
    "    s = []\n",
    "    for i in range(len(nums)):\n",
    "        if nums[i] == 0:\n",
    "            z.append(i)\n",
    "        elif nums[i] == 7:\n",
    "            s.append(i)\n",
    "    if z[0] < s[0] and z[1] < s[0]:\n",
    "        print(\"True\")\n",
    "    else:\n",
    "        print(\"False\")\n",
    "spy_game([1,2,4,0,0,7,5])\n",
    "spy_game([1,0,2,4,0,5,7])\n",
    "spy_game([1,7,2,0,4,5,0])\n"
   ]
  },
  {
   "cell_type": "code",
   "execution_count": 10,
   "metadata": {},
   "outputs": [
    {
     "name": "stdout",
     "output_type": "stream",
     "text": [
      "523.5987755982989\n"
     ]
    }
   ],
   "source": [
    "#Write a function that computes the volume of a sphere given its radius.\n",
    "import math\n",
    "def volume_sphere(r):\n",
    "    return (4/3) * math.pi * r**3\n",
    "r = float(input())\n",
    "print(volume_sphere(r))"
   ]
  },
  {
   "cell_type": "code",
   "execution_count": 18,
   "metadata": {},
   "outputs": [
    {
     "name": "stdout",
     "output_type": "stream",
     "text": [
      "[1, 2, 3, 44, 5, 55]\n"
     ]
    }
   ],
   "source": [
    "#Write a Python function that takes a list and returns a new list with unique elements of the first list. Note: don't use collection set.\n",
    "def set_list(nums):\n",
    "    newlist = []\n",
    "    for item in nums:\n",
    "        if item in newlist:\n",
    "            continue\n",
    "        else:\n",
    "            newlist.append(item)\n",
    "    return newlist\n",
    "nums = list(map(int,input().split()))\n",
    "unique_nums = set_list(nums)\n",
    "print(unique_nums)"
   ]
  },
  {
   "cell_type": "code",
   "execution_count": null,
   "metadata": {},
   "outputs": [
    {
     "name": "stdout",
     "output_type": "stream",
     "text": [
      "It's a palindrome!\n"
     ]
    }
   ],
   "source": [
    "'''Write a Python function that checks whether a word or phrase is palindrome or not. \n",
    "Note: A palindrome is word, phrase, or sequence that reads the same backward as forward, e.g., madam'''\n",
    "def is_palindrome(s):\n",
    "    s = s.lower()\n",
    "    return s == s[::-1]\n",
    "word = input()\n",
    "\n",
    "if is_palindrome(word):\n",
    "    print(\"It's a palindrome!\")\n",
    "else:\n",
    "    print(\"It's not a palindrome.\")\n"
   ]
  },
  {
   "cell_type": "code",
   "execution_count": 16,
   "metadata": {},
   "outputs": [
    {
     "name": "stdout",
     "output_type": "stream",
     "text": [
      "****\n",
      "*****\n",
      "*******\n"
     ]
    }
   ],
   "source": [
    "'''Define a functino histogram() that takes a list of integers and prints a histogram to the screen. \n",
    "For example, histogram([4, 9, 7]) should print the following:'''\n",
    "def histogram(length):\n",
    "    for item in length:\n",
    "        print(\"*\" * item)\n",
    "length = list(map(int,input().split()))\n",
    "histogram(length)"
   ]
  },
  {
   "cell_type": "code",
   "execution_count": 19,
   "metadata": {},
   "outputs": [
    {
     "name": "stdout",
     "output_type": "stream",
     "text": [
      "Hello! What is your name?\n",
      "\n",
      "Well, ore, I am thinking of a number between 1 and 20.\n",
      "\n",
      "Take a guess.\n",
      "Your guess is too high.\n",
      "\n",
      "Take a guess.\n",
      "Your guess is too low.\n",
      "\n",
      "Take a guess.\n",
      "Your guess is too low.\n",
      "\n",
      "Take a guess.\n",
      "Your guess is too low.\n",
      "\n",
      "Take a guess.\n",
      "Your guess is too high.\n",
      "\n",
      "Take a guess.\n",
      "Your guess is too high.\n",
      "\n",
      "Take a guess.\n",
      "Your guess is too high.\n",
      "\n",
      "Take a guess.\n",
      "Your guess is too high.\n",
      "\n",
      "Take a guess.\n",
      "Your guess is too high.\n",
      "\n",
      "Take a guess.\n"
     ]
    },
    {
     "ename": "KeyboardInterrupt",
     "evalue": "Interrupted by user",
     "output_type": "error",
     "traceback": [
      "\u001b[1;31m---------------------------------------------------------------------------\u001b[0m",
      "\u001b[1;31mKeyboardInterrupt\u001b[0m                         Traceback (most recent call last)",
      "Cell \u001b[1;32mIn[19], line 31\u001b[0m\n\u001b[0;32m     28\u001b[0m             \u001b[38;5;28mprint\u001b[39m(\u001b[38;5;124mf\u001b[39m\u001b[38;5;124m\"\u001b[39m\u001b[38;5;124mGood job, \u001b[39m\u001b[38;5;132;01m{\u001b[39;00mname\u001b[38;5;132;01m}\u001b[39;00m\u001b[38;5;124m! You guessed my number in \u001b[39m\u001b[38;5;132;01m{\u001b[39;00mguess_count\u001b[38;5;132;01m}\u001b[39;00m\u001b[38;5;124m guesses!\u001b[39m\u001b[38;5;124m\"\u001b[39m)\n\u001b[0;32m     29\u001b[0m             \u001b[38;5;28;01mbreak\u001b[39;00m\n\u001b[1;32m---> 31\u001b[0m \u001b[43mguess_the_num\u001b[49m\u001b[43m(\u001b[49m\u001b[43m)\u001b[49m\n",
      "Cell \u001b[1;32mIn[19], line 15\u001b[0m, in \u001b[0;36mguess_the_num\u001b[1;34m()\u001b[0m\n\u001b[0;32m     13\u001b[0m guess_count \u001b[38;5;241m+\u001b[39m\u001b[38;5;241m=\u001b[39m \u001b[38;5;241m1\u001b[39m \n\u001b[0;32m     14\u001b[0m \u001b[38;5;28mprint\u001b[39m(\u001b[38;5;124m\"\u001b[39m\u001b[38;5;130;01m\\n\u001b[39;00m\u001b[38;5;124mTake a guess.\u001b[39m\u001b[38;5;124m\"\u001b[39m)\n\u001b[1;32m---> 15\u001b[0m guess \u001b[38;5;241m=\u001b[39m \u001b[38;5;28;43minput\u001b[39;49m\u001b[43m(\u001b[49m\u001b[43m)\u001b[49m \n\u001b[0;32m     17\u001b[0m \u001b[38;5;28;01mif\u001b[39;00m guess\u001b[38;5;241m.\u001b[39misdigit():\n\u001b[0;32m     18\u001b[0m     guess \u001b[38;5;241m=\u001b[39m \u001b[38;5;28mint\u001b[39m(guess)\n",
      "File \u001b[1;32m~\\AppData\\Roaming\\Python\\Python311\\site-packages\\ipykernel\\kernelbase.py:1282\u001b[0m, in \u001b[0;36mKernel.raw_input\u001b[1;34m(self, prompt)\u001b[0m\n\u001b[0;32m   1280\u001b[0m     msg \u001b[38;5;241m=\u001b[39m \u001b[38;5;124m\"\u001b[39m\u001b[38;5;124mraw_input was called, but this frontend does not support input requests.\u001b[39m\u001b[38;5;124m\"\u001b[39m\n\u001b[0;32m   1281\u001b[0m     \u001b[38;5;28;01mraise\u001b[39;00m StdinNotImplementedError(msg)\n\u001b[1;32m-> 1282\u001b[0m \u001b[38;5;28;01mreturn\u001b[39;00m \u001b[38;5;28;43mself\u001b[39;49m\u001b[38;5;241;43m.\u001b[39;49m\u001b[43m_input_request\u001b[49m\u001b[43m(\u001b[49m\n\u001b[0;32m   1283\u001b[0m \u001b[43m    \u001b[49m\u001b[38;5;28;43mstr\u001b[39;49m\u001b[43m(\u001b[49m\u001b[43mprompt\u001b[49m\u001b[43m)\u001b[49m\u001b[43m,\u001b[49m\n\u001b[0;32m   1284\u001b[0m \u001b[43m    \u001b[49m\u001b[38;5;28;43mself\u001b[39;49m\u001b[38;5;241;43m.\u001b[39;49m\u001b[43m_parent_ident\u001b[49m\u001b[43m[\u001b[49m\u001b[38;5;124;43m\"\u001b[39;49m\u001b[38;5;124;43mshell\u001b[39;49m\u001b[38;5;124;43m\"\u001b[39;49m\u001b[43m]\u001b[49m\u001b[43m,\u001b[49m\n\u001b[0;32m   1285\u001b[0m \u001b[43m    \u001b[49m\u001b[38;5;28;43mself\u001b[39;49m\u001b[38;5;241;43m.\u001b[39;49m\u001b[43mget_parent\u001b[49m\u001b[43m(\u001b[49m\u001b[38;5;124;43m\"\u001b[39;49m\u001b[38;5;124;43mshell\u001b[39;49m\u001b[38;5;124;43m\"\u001b[39;49m\u001b[43m)\u001b[49m\u001b[43m,\u001b[49m\n\u001b[0;32m   1286\u001b[0m \u001b[43m    \u001b[49m\u001b[43mpassword\u001b[49m\u001b[38;5;241;43m=\u001b[39;49m\u001b[38;5;28;43;01mFalse\u001b[39;49;00m\u001b[43m,\u001b[49m\n\u001b[0;32m   1287\u001b[0m \u001b[43m\u001b[49m\u001b[43m)\u001b[49m\n",
      "File \u001b[1;32m~\\AppData\\Roaming\\Python\\Python311\\site-packages\\ipykernel\\kernelbase.py:1325\u001b[0m, in \u001b[0;36mKernel._input_request\u001b[1;34m(self, prompt, ident, parent, password)\u001b[0m\n\u001b[0;32m   1322\u001b[0m \u001b[38;5;28;01mexcept\u001b[39;00m \u001b[38;5;167;01mKeyboardInterrupt\u001b[39;00m:\n\u001b[0;32m   1323\u001b[0m     \u001b[38;5;66;03m# re-raise KeyboardInterrupt, to truncate traceback\u001b[39;00m\n\u001b[0;32m   1324\u001b[0m     msg \u001b[38;5;241m=\u001b[39m \u001b[38;5;124m\"\u001b[39m\u001b[38;5;124mInterrupted by user\u001b[39m\u001b[38;5;124m\"\u001b[39m\n\u001b[1;32m-> 1325\u001b[0m     \u001b[38;5;28;01mraise\u001b[39;00m \u001b[38;5;167;01mKeyboardInterrupt\u001b[39;00m(msg) \u001b[38;5;28;01mfrom\u001b[39;00m\u001b[38;5;250m \u001b[39m\u001b[38;5;28;01mNone\u001b[39;00m\n\u001b[0;32m   1326\u001b[0m \u001b[38;5;28;01mexcept\u001b[39;00m \u001b[38;5;167;01mException\u001b[39;00m:\n\u001b[0;32m   1327\u001b[0m     \u001b[38;5;28mself\u001b[39m\u001b[38;5;241m.\u001b[39mlog\u001b[38;5;241m.\u001b[39mwarning(\u001b[38;5;124m\"\u001b[39m\u001b[38;5;124mInvalid Message:\u001b[39m\u001b[38;5;124m\"\u001b[39m, exc_info\u001b[38;5;241m=\u001b[39m\u001b[38;5;28;01mTrue\u001b[39;00m)\n",
      "\u001b[1;31mKeyboardInterrupt\u001b[0m: Interrupted by user"
     ]
    }
   ],
   "source": [
    "'''Write a program able to play the \"Guess the number\" - game, where the number to be guessed is randomly chosen between 1 and 20. \n",
    "This is how it should work when run in a terminal:'''\n",
    "import random\n",
    "def guess_the_num():\n",
    "    print(\"Hello! What is your name?\")\n",
    "    name = input()\n",
    "\n",
    "    secret_num = random.randint(1, 20)\n",
    "    print(f\"\\nWell, {name}, I am thinking of a number between 1 and 20.\")\n",
    "    guess_count = 0\n",
    "\n",
    "    while True:\n",
    "        guess_count += 1 \n",
    "        print(\"\\nTake a guess.\")\n",
    "        guess = input() \n",
    "\n",
    "        if guess.isdigit():\n",
    "            guess = int(guess)\n",
    "        else:\n",
    "            print(\"Please enter a valid number between 1 and 20.\")\n",
    "            continue\n",
    "\n",
    "        if guess < secret_num:\n",
    "            print(\"Your guess is too low.\")\n",
    "        elif guess > secret_num:\n",
    "            print(\"Your guess is too high.\")\n",
    "        else:\n",
    "            print(f\"Good job, {name}! You guessed my number in {guess_count} guesses!\")\n",
    "            break\n",
    "\n",
    "guess_the_num()\n"
   ]
  }
 ],
 "metadata": {
  "kernelspec": {
   "display_name": "Python 3",
   "language": "python",
   "name": "python3"
  },
  "language_info": {
   "codemirror_mode": {
    "name": "ipython",
    "version": 3
   },
   "file_extension": ".py",
   "mimetype": "text/x-python",
   "name": "python",
   "nbconvert_exporter": "python",
   "pygments_lexer": "ipython3",
   "version": "3.11.2"
  }
 },
 "nbformat": 4,
 "nbformat_minor": 2
}
