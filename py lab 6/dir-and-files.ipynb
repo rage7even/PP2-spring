{
 "cells": [
  {
   "cell_type": "code",
   "execution_count": 13,
   "metadata": {},
   "outputs": [
    {
     "name": "stdout",
     "output_type": "stream",
     "text": [
      "Directories:\n",
      "Error\n"
     ]
    }
   ],
   "source": [
    "#Write a Python program to list only directories, files and all directories, files in a specified path.\n",
    "import os\n",
    "print(\"Directories:\")\n",
    "def list_dir_files(p):\n",
    "    for ent in os.listdir(p):\n",
    "        if os.isdir(os.path.join(p,ent)):\n",
    "            print(ent)\n",
    "\n",
    "    print(\"Files:\")\n",
    "    for ent in os.listdir(p):\n",
    "        if os.path.isfile(os.join(p,ent)):\n",
    "            print(ent)\n",
    "\n",
    "    print(\"All directories and files:\")\n",
    "    for ent in os.listdir(p):\n",
    "        print(ent)\n",
    "\n",
    "p = input()\n",
    "\n",
    "if os.path.exists(p):\n",
    "    list_dir_files(p)\n",
    "else:\n",
    "    print(\"Error\")\n",
    "\n"
   ]
  },
  {
   "cell_type": "markdown",
   "metadata": {},
   "source": [
    "import os\n",
    "\n",
    "def create_directory_with_files(directory_name, file_names):\n",
    "    # Создать каталог, если он не существует\n",
    "    if not os.path.exists(directory_name):\n",
    "        os.makedirs(directory_name)\n",
    "        print(f\"Каталог '{directory_name}' создан.\")\n",
    "    else:\n",
    "        print(f\"Каталог '{directory_name}' уже существует.\")\n",
    "\n",
    "    # Создать файлы в каталоге\n",
    "    for file_name in file_names:\n",
    "        file_path = os.path.join(directory_name, file_name)\n",
    "        with open(file_path, 'w') as file:\n",
    "            file.write(f\"Это файл {file_name}.\\n\")  # Записать текст в файл\n",
    "        print(f\"Файл '{file_name}' создан в каталоге '{directory_name}'.\")\n",
    "\n",
    "# Ввод данных от пользователя\n",
    "directory_name = input(\"Введите имя каталога: \")\n",
    "file_names = input(\"Введите имена файлов (через пробел): \").split()\n",
    "\n",
    "# Создать каталог и файлы\n",
    "create_directory_with_files(directory_name, file_names)"
   ]
  },
  {
   "cell_type": "code",
   "execution_count": 9,
   "metadata": {},
   "outputs": [
    {
     "name": "stdout",
     "output_type": "stream",
     "text": [
      "The path  myFolder  exists\n",
      "Readable\n",
      "Writable\n",
      "Executable\n"
     ]
    }
   ],
   "source": [
    "#Write a Python program to check for access to a specified path. Test the existence, readability, writability and executability of the specified path\n",
    "import os\n",
    "\n",
    "def check_path_access(p):\n",
    "    if os.path.exists(p):\n",
    "        print(\"The path \",p,\" exists\")\n",
    "    else:\n",
    "        print(\"The path \",p,\" does not exists\")\n",
    "        return\n",
    "\n",
    "    if os.access(p, os.R_OK):\n",
    "        print(\"Readable\")\n",
    "    else:\n",
    "        print(\"Not readable\")\n",
    "    \n",
    "    if os.access(p, os.W_OK):\n",
    "        print(\"Writable\")\n",
    "    else:\n",
    "        print(\"Not writable\")\n",
    "\n",
    "    if os.access(p, os.X_OK):\n",
    "        print(\"Executable\")\n",
    "    else:\n",
    "        print(\"Not executable\")\n",
    "\n",
    "p = input()\n",
    "check_path_access(p)"
   ]
  },
  {
   "cell_type": "code",
   "execution_count": 10,
   "metadata": {},
   "outputs": [
    {
     "name": "stdout",
     "output_type": "stream",
     "text": [
      "The path 'myFolder' exists.\n",
      "Directory portion: <built-in function dir>\n",
      "Filename myFolder\n"
     ]
    }
   ],
   "source": [
    "#Write a Python program to test whether a given path exists or not. If the path exist find the filename and directory portion of the given path.\n",
    "def check_pathandparts(p):\n",
    "    if os.path.exists(p):\n",
    "        print(f\"The path '{p}' exists.\")\n",
    "\n",
    "        dic = os.path.dirname(p)\n",
    "        print(f\"Directory portion: {dir}\")\n",
    "\n",
    "        filename = os.path.basename(p)\n",
    "        print(f\"Filename {filename}\")\n",
    "\n",
    "    else:\n",
    "        print(f\"The path '{p}' does not exists.\")\n",
    "\n",
    "p = input()\n",
    "check_pathandparts(p)"
   ]
  },
  {
   "cell_type": "code",
   "execution_count": 7,
   "metadata": {},
   "outputs": [
    {
     "name": "stdout",
     "output_type": "stream",
     "text": [
      "Contains:  4  lines\n"
     ]
    }
   ],
   "source": [
    "#Write a Python program to count the number of lines in a text file.\n",
    "def count_lines(file_p):\n",
    "    try:\n",
    "        with open(file_p, \"r\") as file:\n",
    "            line_cnt = 0\n",
    "\n",
    "            for line in file:\n",
    "                line_cnt += 1\n",
    "        print(\"Contains: \", line_cnt, \" lines\")\n",
    "    except FileNotFoundError:\n",
    "        print(\"Does not exist\")\n",
    "    except Exception as e:\n",
    "        print(\"An error occurred: \", e)\n",
    "file_p = input()\n",
    "count_lines(file_p)\n"
   ]
  },
  {
   "cell_type": "code",
   "execution_count": 5,
   "metadata": {},
   "outputs": [
    {
     "name": "stdout",
     "output_type": "stream",
     "text": [
      "The list has been written to 'file2.txt'.\n"
     ]
    }
   ],
   "source": [
    "#Write a Python program to write a list to a file.\n",
    "def write_to_a_file(file_p,d_list):\n",
    "    try:\n",
    "        with open(file_p, \"w\") as file:\n",
    "            for item in d_list:\n",
    "                file.write(f\"{item}\\n\")\n",
    "        print(f\"The list has been written to '{file_p}'.\")\n",
    "    except Exception as e:\n",
    "        print(f\"An error occurred: {e}\")\n",
    "\n",
    "data_list = [\"dd\",\"gg\",\"ll\",\"ss\"]\n",
    "file_p = input()\n",
    "write_to_a_file(file_p,data_list)\n"
   ]
  },
  {
   "cell_type": "code",
   "execution_count": null,
   "metadata": {},
   "outputs": [],
   "source": [
    "#Write a Python program to generate 26 text files named A.txt, B.txt, and so on up to Z.txt\n",
    "import os\n",
    "\n",
    "output_directory = \"output_files\"\n",
    "\n",
    "if not os.path.exists(output_directory):\n",
    "    os.makedirs(output_directory)\n",
    "\n",
    "for letter in range(ord('A'), ord('Z') + 1):\n",
    "    file_name = f\"{chr(letter)}.txt\"\n",
    "    file_path = os.path.join(output_directory, file_name)\n",
    "\n",
    "    with open(file_path, 'w') as file:\n",
    "        file.write(f\"This is the content of {file_name}\\n\")\n",
    "    \n",
    "    print(f\"Created file: {file_path}\")\n",
    "\n",
    "print(\"All files have been created successfully.\")"
   ]
  },
  {
   "cell_type": "code",
   "execution_count": null,
   "metadata": {},
   "outputs": [],
   "source": [
    "#Write a Python program to copy the contents of a file to another file\n",
    "def copy_file(source_file, destination_file):\n",
    "    try:\n",
    "        with open(source_file, 'r') as src:\n",
    "            contents = src.read()\n",
    "        \n",
    "        with open(destination_file, 'w') as dest:\n",
    "            dest.write(contents)\n",
    "        \n",
    "        print(f\"Contents of '{source_file}' have been copied to '{destination_file}' successfully.\")\n",
    "    \n",
    "    except FileNotFoundError:\n",
    "        print(f\"Error: The file '{source_file}' does not exist.\")\n",
    "    except Exception as e:\n",
    "        print(f\"An error occurred: {e}\")\n",
    "\n",
    "source_file = 'source.txt' \n",
    "destination_file = 'destination.txt'  \n",
    "\n",
    "copy_file(source_file, destination_file)"
   ]
  },
  {
   "cell_type": "code",
   "execution_count": null,
   "metadata": {},
   "outputs": [],
   "source": [
    "#Write a Python program to delete file by specified path. Before deleting check for access and whether a given path exists or not.\n",
    "import os\n",
    "\n",
    "def delete_file(file_path):\n",
    "    try:\n",
    "        if not os.path.exists(file_path):\n",
    "            print(f\"Error: The file '{file_path}' does not exist.\")\n",
    "            return\n",
    "        if not os.path.isfile(file_path):\n",
    "            print(f\"Error: '{file_path}' is not a file.\")\n",
    "            return\n",
    "        if not os.access(file_path, os.W_OK):\n",
    "            print(f\"Error: You do not have permission to delete '{file_path}'.\")\n",
    "            return\n",
    "        \n",
    "        os.remove(file_path)\n",
    "        print(f\"File '{file_path}' has been deleted successfully.\")\n",
    "    \n",
    "    except Exception as e:\n",
    "        print(f\"An error occurred: {e}\")\n",
    "file_path = 'example.txt' \n",
    "delete_file(file_path)"
   ]
  }
 ],
 "metadata": {
  "kernelspec": {
   "display_name": "Python 3",
   "language": "python",
   "name": "python3"
  },
  "language_info": {
   "codemirror_mode": {
    "name": "ipython",
    "version": 3
   },
   "file_extension": ".py",
   "mimetype": "text/x-python",
   "name": "python",
   "nbconvert_exporter": "python",
   "pygments_lexer": "ipython3",
   "version": "3.11.2"
  }
 },
 "nbformat": 4,
 "nbformat_minor": 2
}
