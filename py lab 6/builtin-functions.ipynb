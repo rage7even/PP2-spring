{
 "cells": [
  {
   "cell_type": "code",
   "execution_count": 2,
   "metadata": {},
   "outputs": [
    {
     "name": "stdout",
     "output_type": "stream",
     "text": [
      "[2, 2, 2, 2]\n",
      "16\n"
     ]
    }
   ],
   "source": [
    "#Write a Python program with builtin function to multiply all the numbers in a list\n",
    "from functools import reduce\n",
    "\n",
    "def multiplyList(nums):\n",
    "    result = reduce(lambda x,y: x * y, nums)\n",
    "    return result\n",
    "\n",
    "def main():\n",
    "    nums = [int(x) for x in input().split()]\n",
    "    print(nums)\n",
    "    if nums:\n",
    "        result = multiplyList(nums)\n",
    "        print(result)\n",
    "    else:\n",
    "        print(\"The list is empty\")\n",
    "\n",
    "if __name__ == \"__main__\":\n",
    "    main()"
   ]
  },
  {
   "cell_type": "code",
   "execution_count": null,
   "metadata": {},
   "outputs": [
    {
     "name": "stdout",
     "output_type": "stream",
     "text": [
      "BFBKsjfnfkdJDJBJFDkjj\n",
      "Number of uppercase letters:  11\n",
      "Number of lowercase letters:  10\n"
     ]
    }
   ],
   "source": [
    "#Write a Python program with builtin function that accepts a string and calculate the number of upper case letters and lower case letters\n",
    "def number_of_uppercase(string):\n",
    "    uppercase_cnt = sum(1 for c in string if c.isupper())\n",
    "    lowercase_cnt = sum(1 for c in string if c.islower())\n",
    "    return uppercase_cnt, lowercase_cnt\n",
    "\n",
    "def main():\n",
    "    string = input()\n",
    "    print(string)\n",
    "    uppercase_cnt,lowercase_cnt = number_of_uppercase(string)\n",
    "    print(\"Number of uppercase letters: \", uppercase_cnt)\n",
    "    print(\"Number of lowercase letters: \", lowercase_cnt)\n",
    "\n",
    "if __name__ == \"__main__\":\n",
    "    main()\n",
    "    "
   ]
  },
  {
   "cell_type": "code",
   "execution_count": 5,
   "metadata": {},
   "outputs": [
    {
     "name": "stdout",
     "output_type": "stream",
     "text": [
      "kndfd\n",
      "It's not a plaindrome\n"
     ]
    }
   ],
   "source": [
    "#Write a Python program with builtin function that checks whether a passed string is palindrome or not.\n",
    "def ispalindrome(s):\n",
    "    s = s.lower()\n",
    "    return s == s[::-1]\n",
    "\n",
    "def main():\n",
    "    s = input()\n",
    "    print(s)\n",
    "    if ispalindrome(s):\n",
    "        print(\"It's a palindrome\")\n",
    "    else:\n",
    "        print(\"It's not a plaindrome\")\n",
    "\n",
    "if __name__ == \"__main__\":\n",
    "    main()\n"
   ]
  },
  {
   "cell_type": "code",
   "execution_count": 8,
   "metadata": {},
   "outputs": [
    {
     "name": "stdout",
     "output_type": "stream",
     "text": [
      "Square root of  25100  after  2.123  milliseconds is  1.4570518178843195\n"
     ]
    }
   ],
   "source": [
    "#Write a Python program that invoke square root function after specific milliseconds.\n",
    "import time\n",
    "import math\n",
    "\n",
    "def calculate(n,d_millisecond):\n",
    "    d_seconds = d_millisecond / 1000.0\n",
    "    time.sleep(d_seconds)\n",
    "    print(\"Square root of \" ,n,\" after \",d_seconds, \" milliseconds is \", math.sqrt(d_seconds))\n",
    "\n",
    "n,delay_ms = int(input()),int(input())\n",
    "calculate(n,delay_ms)\n",
    "    "
   ]
  },
  {
   "cell_type": "code",
   "execution_count": 8,
   "metadata": {},
   "outputs": [
    {
     "name": "stdout",
     "output_type": "stream",
     "text": [
      "False\n"
     ]
    }
   ],
   "source": [
    "#Write a Python program with builtin function that returns True if all elements of the tuple are true.\n",
    "def if_all_elem_true(t):\n",
    "    return all(t)\n",
    "def main():\n",
    "    t = (True,False,True)\n",
    "    print(if_all_elem_true(t))\n",
    "if __name__ == \"__main__\":\n",
    "    main()"
   ]
  }
 ],
 "metadata": {
  "kernelspec": {
   "display_name": "Python 3",
   "language": "python",
   "name": "python3"
  },
  "language_info": {
   "codemirror_mode": {
    "name": "ipython",
    "version": 3
   },
   "file_extension": ".py",
   "mimetype": "text/x-python",
   "name": "python",
   "nbconvert_exporter": "python",
   "pygments_lexer": "ipython3",
   "version": "3.11.2"
  }
 },
 "nbformat": 4,
 "nbformat_minor": 2
}
